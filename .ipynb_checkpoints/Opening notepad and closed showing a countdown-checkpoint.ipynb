{
 "cells": [
  {
   "cell_type": "code",
   "execution_count": 1,
   "id": "db23566d",
   "metadata": {},
   "outputs": [],
   "source": [
    "# -*- coding: utf-8 -*-excel"
   ]
  },
  {
   "cell_type": "code",
   "execution_count": 2,
   "id": "d6af93f2",
   "metadata": {},
   "outputs": [],
   "source": [
    "import pyautogui as pg\n",
    "import os"
   ]
  },
  {
   "cell_type": "code",
   "execution_count": 3,
   "id": "99fe9071",
   "metadata": {},
   "outputs": [
    {
     "data": {
      "text/plain": [
       "0"
      ]
     },
     "execution_count": 3,
     "metadata": {},
     "output_type": "execute_result"
    }
   ],
   "source": [
    "# opening the notepad\n",
    "os.system('notepad.exe')\n"
   ]
  },
  {
   "cell_type": "code",
   "execution_count": null,
   "id": "12f53b3c",
   "metadata": {},
   "outputs": [],
   "source": [
    "# write timedowns\n",
    "pg.typewrite('Close this app in 5 seconds')\n",
    "pg.sleep(5)"
   ]
  },
  {
   "cell_type": "code",
   "execution_count": null,
   "id": "a6397e51",
   "metadata": {},
   "outputs": [],
   "source": []
  },
  {
   "cell_type": "code",
   "execution_count": null,
   "id": "853fc2a7",
   "metadata": {
    "collapsed": true
   },
   "outputs": [],
   "source": []
  }
 ],
 "metadata": {
  "kernelspec": {
   "display_name": "Python 3 (ipykernel)",
   "language": "python",
   "name": "python3"
  },
  "language_info": {
   "codemirror_mode": {
    "name": "ipython",
    "version": 3
   },
   "file_extension": ".py",
   "mimetype": "text/x-python",
   "name": "python",
   "nbconvert_exporter": "python",
   "pygments_lexer": "ipython3",
   "version": "3.10.4"
  }
 },
 "nbformat": 4,
 "nbformat_minor": 5
}
