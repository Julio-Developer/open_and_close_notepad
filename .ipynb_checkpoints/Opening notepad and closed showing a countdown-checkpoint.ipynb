{
 "cells": [
  {
   "cell_type": "code",
   "execution_count": 30,
   "id": "d4b79a49",
   "metadata": {},
   "outputs": [],
   "source": [
    "# -*- coding: utf-8 -*-excel"
   ]
  },
  {
   "cell_type": "code",
   "execution_count": 31,
   "id": "3b6e174e",
   "metadata": {},
   "outputs": [],
   "source": [
    "import pyautogui as pg"
   ]
  },
  {
   "cell_type": "markdown",
   "id": "0c602337",
   "metadata": {},
   "source": [
    "# Showing position button  of win\n",
    "pg.sleep(4)\n",
    "print(pg.position())"
   ]
  },
  {
   "cell_type": "code",
   "execution_count": 32,
   "id": "d6b15529",
   "metadata": {},
   "outputs": [],
   "source": [
    "# clicked in botam win\n",
    "pg.sleep(4)\n",
    "pg.moveTo(x=667, y=1075)\n",
    "pg.click()"
   ]
  },
  {
   "cell_type": "markdown",
   "id": "77824e87",
   "metadata": {},
   "source": [
    "# Getting position shearch bar\n",
    "pg.sleep(4)\n",
    "print(pg.position())"
   ]
  },
  {
   "cell_type": "code",
   "execution_count": 33,
   "id": "952d371e",
   "metadata": {},
   "outputs": [],
   "source": [
    "# click in windows search bar and insert the name app\n",
    "pg.sleep(3)\n",
    "pg.moveTo(x=767, y=350)\n",
    "pg.click\n",
    "pg.sleep(3)\n",
    "pg.write('notepad')\n",
    "pg.press('enter')"
   ]
  },
  {
   "cell_type": "code",
   "execution_count": null,
   "id": "ac07de97",
   "metadata": {},
   "outputs": [],
   "source": [
    "# write timedown for closed app\n",
    "cont = 0\n",
    "# pg.sleep(4)\n",
    "# print(pg.position())\n",
    "pg.moveTo(x=849, y=394)\n",
    "pg.sleep(2)\n",
    "pg.click\n",
    "for i in range(1,5):\n",
    "    pg.write(f'{i} secounds for cloused this app')"
   ]
  },
  {
   "cell_type": "markdown",
   "id": "25220399",
   "metadata": {},
   "source": [
    "# "
   ]
  }
 ],
 "metadata": {
  "kernelspec": {
   "display_name": "Python 3 (ipykernel)",
   "language": "python",
   "name": "python3"
  },
  "language_info": {
   "codemirror_mode": {
    "name": "ipython",
    "version": 3
   },
   "file_extension": ".py",
   "mimetype": "text/x-python",
   "name": "python",
   "nbconvert_exporter": "python",
   "pygments_lexer": "ipython3",
   "version": "3.10.4"
  }
 },
 "nbformat": 4,
 "nbformat_minor": 5
}
