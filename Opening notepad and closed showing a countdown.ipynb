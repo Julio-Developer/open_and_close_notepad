{
 "cells": [
  {
   "cell_type": "code",
   "execution_count": 1,
   "id": "b962553f",
   "metadata": {},
   "outputs": [],
   "source": [
    "# -*- coding: utf-8 -*-excel"
   ]
  },
  {
   "cell_type": "code",
   "execution_count": 2,
   "id": "f376a00e",
   "metadata": {},
   "outputs": [],
   "source": [
    "import pyautogui as pg\n",
    "from time import sleep\n",
    "import os"
   ]
  },
  {
   "cell_type": "code",
   "execution_count": 3,
   "id": "42575f48",
   "metadata": {},
   "outputs": [],
   "source": [
    "# opening the notepad\n",
    "pg.hotkey('win','r',interval=1)\n",
    "pg.press('enter')\n",
    "sleep(1)"
   ]
  },
  {
   "cell_type": "code",
   "execution_count": 4,
   "id": "6a473294",
   "metadata": {},
   "outputs": [
    {
     "data": {
      "text/plain": [
       "0"
      ]
     },
     "execution_count": 4,
     "metadata": {},
     "output_type": "execute_result"
    }
   ],
   "source": [
    "# write timedowns and closed app\n",
    "for i in range(5,0,-1):\n",
    "    sleep(1)\n",
    "    pg.typewrite(f'{i} seconds left\\n',interval=0.05)\n",
    "pg.typewrite('Closing')\n",
    "sleep(1)\n",
    "os.system('taskkill /f /im notepad.exe')\n",
    "\n",
    "    "
   ]
  },
  {
   "cell_type": "code",
   "execution_count": null,
   "id": "bd3dbe4c",
   "metadata": {},
   "outputs": [],
   "source": []
  }
 ],
 "metadata": {
  "kernelspec": {
   "display_name": "Python 3 (ipykernel)",
   "language": "python",
   "name": "python3"
  },
  "language_info": {
   "codemirror_mode": {
    "name": "ipython",
    "version": 3
   },
   "file_extension": ".py",
   "mimetype": "text/x-python",
   "name": "python",
   "nbconvert_exporter": "python",
   "pygments_lexer": "ipython3",
   "version": "3.10.4"
  }
 },
 "nbformat": 4,
 "nbformat_minor": 5
}
