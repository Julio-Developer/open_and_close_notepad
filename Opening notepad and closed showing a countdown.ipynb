{
 "cells": [
  {
   "cell_type": "code",
   "execution_count": 1,
   "id": "a411904a",
   "metadata": {},
   "outputs": [],
   "source": [
    "# -*- coding: utf-8 -*-excel"
   ]
  },
  {
   "cell_type": "code",
   "execution_count": 2,
   "id": "58f809a4",
   "metadata": {},
   "outputs": [],
   "source": [
    "import pyautogui as pg"
   ]
  },
  {
   "cell_type": "markdown",
   "id": "37f5304a",
   "metadata": {},
   "source": [
    "# Showing position button  of win\n",
    "pg.sleep(4)\n",
    "print(pg.position())"
   ]
  },
  {
   "cell_type": "code",
   "execution_count": 3,
   "id": "125243e6",
   "metadata": {},
   "outputs": [],
   "source": [
    "# clicked in botam win\n",
    "pg.sleep(4)\n",
    "pg.moveTo(x=667, y=1075)\n",
    "pg.click()"
   ]
  },
  {
   "cell_type": "markdown",
   "id": "37a741e1",
   "metadata": {},
   "source": [
    "# Getting position shearch bar\n",
    "pg.sleep(4)\n",
    "print(pg.position())"
   ]
  },
  {
   "cell_type": "code",
   "execution_count": 4,
   "id": "66267641",
   "metadata": {},
   "outputs": [],
   "source": [
    "# click in windows search bar and insert the name app\n",
    "pg.sleep(3)\n",
    "pg.moveTo(x=767, y=350)\n",
    "pg.click()\n",
    "pg.sleep(3)\n",
    "pg.write('notepad')\n",
    "pg.press('enter')"
   ]
  },
  {
   "cell_type": "code",
   "execution_count": 5,
   "id": "822f9316",
   "metadata": {},
   "outputs": [],
   "source": [
    "# Cloused app\n",
    "pg.sleep(4)\n",
    "# print(pg.position())\n",
    "pg.write('This app will close in 5 seconds')\n",
    "pg.moveTo(x=1655, y=211)\n",
    "pg.sleep(5)\n",
    "pg.click()"
   ]
  },
  {
   "cell_type": "markdown",
   "id": "ff430ef9",
   "metadata": {},
   "source": []
  }
 ],
 "metadata": {
  "kernelspec": {
   "display_name": "Python 3 (ipykernel)",
   "language": "python",
   "name": "python3"
  },
  "language_info": {
   "codemirror_mode": {
    "name": "ipython",
    "version": 3
   },
   "file_extension": ".py",
   "mimetype": "text/x-python",
   "name": "python",
   "nbconvert_exporter": "python",
   "pygments_lexer": "ipython3",
   "version": "3.10.4"
  }
 },
 "nbformat": 4,
 "nbformat_minor": 5
}
